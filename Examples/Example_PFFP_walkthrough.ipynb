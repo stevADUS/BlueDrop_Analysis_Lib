{
 "cells": [
  {
   "cell_type": "markdown",
   "metadata": {},
   "source": [
    "## PFFP Code Intro\n",
    "\n",
    "The purpose of this notebook is to detail the features and steps to process PFFP binary code information.\n",
    "\n",
    "Date: 09/09/2024\n",
    "\n",
    "Name: Jonathan Moore"
   ]
  },
  {
   "cell_type": "markdown",
   "metadata": {},
   "source": [
    "## Library/Module importing\n",
    "\n",
    "This step is so that the libraries required can be accessed by the local code"
   ]
  },
  {
   "cell_type": "code",
   "execution_count": 1,
   "metadata": {},
   "outputs": [],
   "source": [
    "import matplotlib.pyplot as plt\n",
    "import sys\n",
    "import os\n",
    "import numpy as np"
   ]
  },
  {
   "cell_type": "markdown",
   "metadata": {},
   "source": [
    "#### Add the BlueDrop Analysis library to the current path\n",
    "This is necessary for the time being since the library hasn't been converted a python package yet"
   ]
  },
  {
   "cell_type": "code",
   "execution_count": 2,
   "metadata": {},
   "outputs": [],
   "source": [
    "sys.path.append(\"../../BlueDrop_Analysis_Lib\")"
   ]
  },
  {
   "cell_type": "markdown",
   "metadata": {},
   "source": [
    "### Local Imports\n",
    "These are imports from the actual BlueDrop Analysis Lib that our team wrote"
   ]
  },
  {
   "cell_type": "code",
   "execution_count": 3,
   "metadata": {},
   "outputs": [],
   "source": [
    "# Local loads\n",
    "\n",
    "# This class represent the Folder that contains the pffp data\n",
    "from lib.data_classes.pffpFolder import pffpDataFolder"
   ]
  },
  {
   "cell_type": "markdown",
   "metadata": {},
   "source": [
    "### Set the necessary paths\n",
    "These paths will be used to retrieve the data, dimensions of the BlueDrop, and Calibration Data\n"
   ]
  },
  {
   "cell_type": "code",
   "execution_count": 4,
   "metadata": {},
   "outputs": [],
   "source": [
    "# Data folder\n",
    "# folder_dir = r\"C:\\Geotech_Research\\Field_Analysis\\BlueDrop_Analysis_Lib\\stark_drops\"\n",
    "folder_dir = os.path.join(os.pardir, \"Mouth_1\")\n",
    "\n",
    "# PFFP sensor data\n",
    "calibration_dir = os.path.join(os.pardir, \"calibration_factors/BlueDrop_Calibration_Factors.xlsx\")\n",
    "\n",
    "# PFFP tip information\n",
    "tip_dir = os.path.join(os.pardir, \"calibration_factors/BluedDrop_Cone_Values.xlsx\")\n"
   ]
  },
  {
   "cell_type": "markdown",
   "metadata": {},
   "source": [
    "### Creating the pffp Data folder\n",
    "\n",
    "The purpose of the next cell is to create the ```pffp_data_folder``` and load the correct calibration factors to convert the voltages measured by the BlueDrop sensors to engineering units (g's, meters, pressure (kPa))"
   ]
  },
  {
   "cell_type": "code",
   "execution_count": 5,
   "metadata": {},
   "outputs": [],
   "source": [
    "# Set the name for the survey \n",
    "name = \"VIM_Mouth_1\"\n",
    "\n",
    "# Set the id for the pffp\n",
    "id = 3\n",
    "\n",
    "# Create the object that will represent the folder with the pffp data in it\n",
    "pffp_data_folder = pffpDataFolder(folder_dir, pffp_id = id, calibration_factor_dir=calibration_dir, survey_name = name)\n",
    "\n",
    "# Read the calibration data\n",
    "pffp_data_folder.read_calibration_excel_sheet()\n",
    "\n",
    "# Select the specific calibration params\n",
    "if id == 3:\n",
    "    pffp_data_folder.get_sensor_calibration_params(\"Sequim_2021\")\n",
    "elif id == 1:\n",
    "    pffp_data_folder.get_sensor_calibration_params(\"March_2023\")\n",
    "elif id ==9:\n",
    "    pffp_data_folder.get_sensor_calibration_params(\"October_2023\")\n",
    "else:\n",
    "    raise ValueError(\"not a valid pffp id\")\n"
   ]
  },
  {
   "cell_type": "markdown",
   "metadata": {},
   "source": [
    "#### Display the selected calibration factors"
   ]
  },
  {
   "cell_type": "code",
   "execution_count": 6,
   "metadata": {},
   "outputs": [
    {
     "data": {
      "text/html": [
       "<div>\n",
       "<style scoped>\n",
       "    .dataframe tbody tr th:only-of-type {\n",
       "        vertical-align: middle;\n",
       "    }\n",
       "\n",
       "    .dataframe tbody tr th {\n",
       "        vertical-align: top;\n",
       "    }\n",
       "\n",
       "    .dataframe thead th {\n",
       "        text-align: right;\n",
       "    }\n",
       "</style>\n",
       "<table border=\"1\" class=\"dataframe\">\n",
       "  <thead>\n",
       "    <tr style=\"text-align: right;\">\n",
       "      <th></th>\n",
       "      <th>Sensor</th>\n",
       "      <th>Sequim_2021_offset</th>\n",
       "      <th>Sequim_2021_scale</th>\n",
       "    </tr>\n",
       "  </thead>\n",
       "  <tbody>\n",
       "    <tr>\n",
       "      <th>0</th>\n",
       "      <td>2g_accel</td>\n",
       "      <td>-34426.50</td>\n",
       "      <td>1615925.8</td>\n",
       "    </tr>\n",
       "    <tr>\n",
       "      <th>1</th>\n",
       "      <td>18g_accel</td>\n",
       "      <td>12322.10</td>\n",
       "      <td>163530.7</td>\n",
       "    </tr>\n",
       "    <tr>\n",
       "      <th>2</th>\n",
       "      <td>50g_accel</td>\n",
       "      <td>-244513.80</td>\n",
       "      <td>63651.0</td>\n",
       "    </tr>\n",
       "    <tr>\n",
       "      <th>3</th>\n",
       "      <td>200g_accel</td>\n",
       "      <td>-262332.40</td>\n",
       "      <td>38888.7</td>\n",
       "    </tr>\n",
       "    <tr>\n",
       "      <th>4</th>\n",
       "      <td>250g_accel</td>\n",
       "      <td>-40536.10</td>\n",
       "      <td>13631.6</td>\n",
       "    </tr>\n",
       "    <tr>\n",
       "      <th>5</th>\n",
       "      <td>55g_x_tilt</td>\n",
       "      <td>-59093.70</td>\n",
       "      <td>66674.3</td>\n",
       "    </tr>\n",
       "    <tr>\n",
       "      <th>6</th>\n",
       "      <td>55g_y_tilt</td>\n",
       "      <td>-140224.60</td>\n",
       "      <td>66674.3</td>\n",
       "    </tr>\n",
       "    <tr>\n",
       "      <th>7</th>\n",
       "      <td>pore_pressure</td>\n",
       "      <td>-51617.54</td>\n",
       "      <td>20705.0</td>\n",
       "    </tr>\n",
       "  </tbody>\n",
       "</table>\n",
       "</div>"
      ],
      "text/plain": [
       "          Sensor  Sequim_2021_offset  Sequim_2021_scale\n",
       "0       2g_accel           -34426.50          1615925.8\n",
       "1      18g_accel            12322.10           163530.7\n",
       "2      50g_accel          -244513.80            63651.0\n",
       "3     200g_accel          -262332.40            38888.7\n",
       "4     250g_accel           -40536.10            13631.6\n",
       "5     55g_x_tilt           -59093.70            66674.3\n",
       "6     55g_y_tilt          -140224.60            66674.3\n",
       "7  pore_pressure           -51617.54            20705.0"
      ]
     },
     "metadata": {},
     "output_type": "display_data"
    }
   ],
   "source": [
    "display(pffp_data_folder.calibration_excel_sheet)"
   ]
  },
  {
   "cell_type": "markdown",
   "metadata": {},
   "source": [
    "### Find all the pffp files\n",
    "\n",
    "The next cell finds all the pffp files and stores a reference to them. The way it does this is by searching to find all the ```.bin``` files in the folder. As such, make sure there are no other files in the folder that have a ```.bin``` file extension."
   ]
  },
  {
   "cell_type": "code",
   "execution_count": 7,
   "metadata": {},
   "outputs": [
    {
     "name": "stdout",
     "output_type": "stream",
     "text": [
      "Folder: ..\\Mouth_1 \n",
      "Date range: Not set \n",
      "PFFP id: 3                 \n",
      "Calibration Param dir: ..\\calibration_factors/BlueDrop_Calibration_Factors.xlsx \n",
      "Num .bin files: 8                 \n",
      "Num files with drops: Not Set\n"
     ]
    }
   ],
   "source": [
    "# Init a pffpFile instances for each binary file and store the results in the folder\n",
    "pffp_data_folder.store_pffp_files(recursive = False)\n",
    "\n",
    "# Print Meta-data about the pffp_data_folder including the number of .bin files found.\n",
    "print(pffp_data_folder) # Information about the folder"
   ]
  },
  {
   "cell_type": "markdown",
   "metadata": {},
   "source": [
    "### Analyze the files\n",
    "\n",
    "The purpose of this step is to determine which files have drops in them. \n",
    "\n",
    "The possible scenarios are:\n",
    "\n",
    "#### Drop in file\n",
    "If the code unequivocally finds all the drops in the file, then the reference to the file object is stored in the ```pffp_drop_files``` list. \n",
    "\n",
    "#### No Drop in file\n",
    "If the code unequivocally finds no drops in the file, then the reference to the file object is stored in the ```pffp_no_drop_files``` list. Additionally, the actual ```.bin``` file is moved into a subdirectory of the current working folder, that will contain the files that don't have drops in them. The default name for this folder is ```no_drop_folder```\n",
    "\n",
    "#### Code can't figure out if there's a drop or not\n",
    "When the code can't determine if the file does or does not contain a drop, the files are treated as \"funky\" files. Similar to the \"no drop\" files the funky files have their actual '''.bin''' file moved into a subdirectory of the current working folder. The name for this folder is ```funky_folder```. \n",
    "\n",
    "#### Accessing the lists that contain the different file types\n",
    "Given that the folder object in this example is called ```pffp_data_folder```, the different lists can be accessed in the following ways:\n",
    "\n",
    "* Files that unequivocally contain drops       : ```pffp_data_folder.pffp_drop_files```\n",
    "* Files that unequivocallyt don't contain drops: ```pffp_data_folder.pffp_no_drop_files```\n",
    "* Files that have a funky status               : ```pffp_data_folder.pffp_funky_files```\n"
   ]
  },
  {
   "cell_type": "code",
   "execution_count": 8,
   "metadata": {},
   "outputs": [
    {
     "name": "stdout",
     "output_type": "stream",
     "text": [
      "Folder '..\\Mouth_1\\no_drop_folder' already exists.\n",
      "Folder '..\\Mouth_1\\funky' already exists.\n",
      "\n",
      "Progress finding files with drops...\n",
      "[==================================================] 100.00% ETA (min): 0.0\n",
      "Initial analysis complete!\n"
     ]
    }
   ],
   "source": [
    "# Figures out if the .bin file has a drop\n",
    "pffp_data_folder.analyze_all_files(store_df=True, use_pore_pressure=True, \n",
    "                              select_accel=[\"2g_accel\", \"18g_accel\", \"50g_accel\", \"250g_accel\"],\n",
    "                              debug = False)"
   ]
  },
  {
   "cell_type": "markdown",
   "metadata": {},
   "source": [
    "### Processing Drop Files\n",
    "\n",
    "The next cell processes the files that unequivocally have drops in them.\n",
    "\n",
    "This means that for each drop in each file that contains a drop the following are done:\n",
    "\n",
    "* An object is created to represent each drop \n",
    "* The start and end of the drop are found\n",
    "* The acceleration data is integrated to get the velocity and displacement"
   ]
  },
  {
   "cell_type": "code",
   "execution_count": 9,
   "metadata": {},
   "outputs": [
    {
     "name": "stdout",
     "output_type": "stream",
     "text": [
      "\n",
      "Progress processing drops in files...\n",
      "[======--------------------------------------------] 12.50% ETA (min): 1.7e-08"
     ]
    },
    {
     "name": "stdout",
     "output_type": "stream",
     "text": [
      "[==================================================] 100.00% ETA (min): 1.7e-08"
     ]
    }
   ],
   "source": [
    "# Figure out the beginning and the end of the drops if the files contain drops\n",
    "pffp_data_folder.process_drop_files()"
   ]
  },
  {
   "cell_type": "markdown",
   "metadata": {},
   "source": [
    "### Processing Funky Files\n",
    "\n",
    "For funky files there's at least one drop in the file that the code isn't sure if it's a drop or not. As such, those files need to be processed by hand. The following cell details the steps that are necessary to do that.\n",
    "\n",
    "If the code doesn't find any funky files that this step isn't necessary."
   ]
  },
  {
   "cell_type": "code",
   "execution_count": 10,
   "metadata": {},
   "outputs": [],
   "source": [
    "# Steps to process funky files\n",
    "\n",
    "# Loop over all the files that are funky\n",
    "for file in pffp_data_folder.pffp_funky_files:\n",
    "\n",
    "    # Manual Process the drop. This method will take you through the process of manually processing the drop\n",
    "    file.manually_process_drops(interactive_plot=True)"
   ]
  },
  {
   "cell_type": "markdown",
   "metadata": {},
   "source": [
    "### Print out folder metadata\n",
    "\n",
    "Printing out the folder meta-data again to see how it's been updated."
   ]
  },
  {
   "cell_type": "code",
   "execution_count": 11,
   "metadata": {},
   "outputs": [
    {
     "name": "stdout",
     "output_type": "stream",
     "text": [
      "Folder: ..\\Mouth_1 \n",
      "Date range: Not set \n",
      "PFFP id: 3                 \n",
      "Calibration Param dir: ..\\calibration_factors/BlueDrop_Calibration_Factors.xlsx \n",
      "Num .bin files: 8                 \n",
      "Num files with drops: 8\n"
     ]
    }
   ],
   "source": [
    "# Print information about the folder object\n",
    "print(pffp_data_folder)"
   ]
  },
  {
   "cell_type": "markdown",
   "metadata": {},
   "source": [
    "## Info on the next section\n",
    "\n",
    "The following cells walk using the prebuilt plotting functions for files and drops. For simplicity instead referencing an element of the ```pffp_data_folder.pffp_drop_files``` list (eg. ```pffp_data_folder.pffp_drop_files[0]```) the file object will be stored in a variable named ```file```. Similary, instead of referring to a drop inside of ```pffp_data_folder.pffp_drop_files[i].drops[j]``` where ```i``` can range from 0 to the number of drop files minus one and ```j``` can range from 0 to the number of drops inside that specific file, the drop object will be stored in a variable named ```drop```. "
   ]
  },
  {
   "cell_type": "markdown",
   "metadata": {},
   "source": [
    "### Exploring the pffpFile object"
   ]
  },
  {
   "cell_type": "code",
   "execution_count": 12,
   "metadata": {},
   "outputs": [],
   "source": [
    "# Store the first drop file\n",
    "\n",
    "# The load order is different on windows and linux. For the purpose of this demonstration make sure the same file and drop is selected\n",
    "\n",
    "# Set the indices for the file, drop indices\n",
    "\n",
    "if os.name == \"nt\":\n",
    "    # windows computer\n",
    "    file_index, drop_index = 0, 0\n",
    "elif os.name == \"posix\":\n",
    "    # Linux computer\n",
    "    file_index, drop_index = -2, 0 \n",
    "\n",
    "file = pffp_data_folder.pffp_drop_files[file_index]\n",
    "\n",
    "# Store the first drop\n",
    "drop = pffp_data_folder.pffp_drop_files[file_index].drops[drop_index]\n"
   ]
  },
  {
   "cell_type": "markdown",
   "metadata": {},
   "source": [
    "### Looking into the ```file```\n"
   ]
  },
  {
   "cell_type": "markdown",
   "metadata": {},
   "source": [
    "### Printing the file meta-data"
   ]
  },
  {
   "cell_type": "code",
   "execution_count": 13,
   "metadata": {},
   "outputs": [
    {
     "name": "stdout",
     "output_type": "stream",
     "text": [
      "File Directory: ..\\Mouth_1\\..\\Mouth_1\\bLog0D2F.bin \n",
      "Num Drops in file: 1                 \n",
      "Drop Date: 2024-09-09 \n",
      "Drop Time: 10:30:51.661815                 \n",
      "df stored: True                \n",
      "Concat accel stored: True\n"
     ]
    }
   ],
   "source": [
    "print(file)"
   ]
  },
  {
   "cell_type": "markdown",
   "metadata": {},
   "source": [
    "#### View the ```.bin``` file as a pandas dataframe (df)"
   ]
  },
  {
   "cell_type": "code",
   "execution_count": 14,
   "metadata": {},
   "outputs": [
    {
     "data": {
      "text/html": [
       "<div>\n",
       "<style scoped>\n",
       "    .dataframe tbody tr th:only-of-type {\n",
       "        vertical-align: middle;\n",
       "    }\n",
       "\n",
       "    .dataframe tbody tr th {\n",
       "        vertical-align: top;\n",
       "    }\n",
       "\n",
       "    .dataframe thead th {\n",
       "        text-align: right;\n",
       "    }\n",
       "</style>\n",
       "<table border=\"1\" class=\"dataframe\">\n",
       "  <thead>\n",
       "    <tr style=\"text-align: right;\">\n",
       "      <th></th>\n",
       "      <th>Time</th>\n",
       "      <th>2g_accel</th>\n",
       "      <th>18g_accel</th>\n",
       "      <th>50g_accel</th>\n",
       "      <th>pore_pressure</th>\n",
       "      <th>200g_accel</th>\n",
       "      <th>55g_x_tilt</th>\n",
       "      <th>55g_y_tilt</th>\n",
       "      <th>250g_accel</th>\n",
       "    </tr>\n",
       "  </thead>\n",
       "  <tbody>\n",
       "    <tr>\n",
       "      <th>0</th>\n",
       "      <td>0.000000</td>\n",
       "      <td>1.158287</td>\n",
       "      <td>1.155686</td>\n",
       "      <td>1.051377</td>\n",
       "      <td>6.055754</td>\n",
       "      <td>1.406234</td>\n",
       "      <td>0.068352</td>\n",
       "      <td>0.085721</td>\n",
       "      <td>1.110060</td>\n",
       "    </tr>\n",
       "    <tr>\n",
       "      <th>1</th>\n",
       "      <td>0.000008</td>\n",
       "      <td>1.156603</td>\n",
       "      <td>1.154347</td>\n",
       "      <td>1.033844</td>\n",
       "      <td>6.207935</td>\n",
       "      <td>1.398365</td>\n",
       "      <td>0.128195</td>\n",
       "      <td>0.042241</td>\n",
       "      <td>1.168528</td>\n",
       "    </tr>\n",
       "    <tr>\n",
       "      <th>2</th>\n",
       "      <td>0.000017</td>\n",
       "      <td>1.156164</td>\n",
       "      <td>1.152115</td>\n",
       "      <td>1.068235</td>\n",
       "      <td>6.140003</td>\n",
       "      <td>1.393119</td>\n",
       "      <td>0.156647</td>\n",
       "      <td>0.051780</td>\n",
       "      <td>1.039122</td>\n",
       "    </tr>\n",
       "    <tr>\n",
       "      <th>3</th>\n",
       "      <td>0.000025</td>\n",
       "      <td>1.156844</td>\n",
       "      <td>1.150090</td>\n",
       "      <td>1.059688</td>\n",
       "      <td>6.402074</td>\n",
       "      <td>1.400988</td>\n",
       "      <td>0.128570</td>\n",
       "      <td>0.086636</td>\n",
       "      <td>0.988505</td>\n",
       "    </tr>\n",
       "    <tr>\n",
       "      <th>4</th>\n",
       "      <td>0.000033</td>\n",
       "      <td>1.153441</td>\n",
       "      <td>1.152047</td>\n",
       "      <td>1.068219</td>\n",
       "      <td>5.843633</td>\n",
       "      <td>1.399857</td>\n",
       "      <td>0.132454</td>\n",
       "      <td>0.049215</td>\n",
       "      <td>1.090840</td>\n",
       "    </tr>\n",
       "    <tr>\n",
       "      <th>...</th>\n",
       "      <td>...</td>\n",
       "      <td>...</td>\n",
       "      <td>...</td>\n",
       "      <td>...</td>\n",
       "      <td>...</td>\n",
       "      <td>...</td>\n",
       "      <td>...</td>\n",
       "      <td>...</td>\n",
       "      <td>...</td>\n",
       "    </tr>\n",
       "    <tr>\n",
       "      <th>119995</th>\n",
       "      <td>0.999967</td>\n",
       "      <td>1.147635</td>\n",
       "      <td>1.139725</td>\n",
       "      <td>1.143881</td>\n",
       "      <td>47.921482</td>\n",
       "      <td>1.390805</td>\n",
       "      <td>0.019532</td>\n",
       "      <td>0.044341</td>\n",
       "      <td>1.048659</td>\n",
       "    </tr>\n",
       "    <tr>\n",
       "      <th>119996</th>\n",
       "      <td>0.999975</td>\n",
       "      <td>1.153472</td>\n",
       "      <td>1.143951</td>\n",
       "      <td>1.103898</td>\n",
       "      <td>48.026377</td>\n",
       "      <td>1.393376</td>\n",
       "      <td>0.003799</td>\n",
       "      <td>0.052620</td>\n",
       "      <td>1.204694</td>\n",
       "    </tr>\n",
       "    <tr>\n",
       "      <th>119997</th>\n",
       "      <td>0.999983</td>\n",
       "      <td>1.153645</td>\n",
       "      <td>1.144942</td>\n",
       "      <td>1.105563</td>\n",
       "      <td>48.563173</td>\n",
       "      <td>1.392219</td>\n",
       "      <td>0.005839</td>\n",
       "      <td>0.041821</td>\n",
       "      <td>1.133535</td>\n",
       "    </tr>\n",
       "    <tr>\n",
       "      <th>119998</th>\n",
       "      <td>0.999992</td>\n",
       "      <td>1.153616</td>\n",
       "      <td>1.147259</td>\n",
       "      <td>1.105846</td>\n",
       "      <td>47.884186</td>\n",
       "      <td>1.395099</td>\n",
       "      <td>0.011733</td>\n",
       "      <td>0.047731</td>\n",
       "      <td>1.082624</td>\n",
       "    </tr>\n",
       "    <tr>\n",
       "      <th>119999</th>\n",
       "      <td>1.000000</td>\n",
       "      <td>1.157670</td>\n",
       "      <td>1.147681</td>\n",
       "      <td>1.099970</td>\n",
       "      <td>47.775629</td>\n",
       "      <td>1.395125</td>\n",
       "      <td>0.014073</td>\n",
       "      <td>0.042961</td>\n",
       "      <td>1.021663</td>\n",
       "    </tr>\n",
       "  </tbody>\n",
       "</table>\n",
       "<p>120000 rows × 9 columns</p>\n",
       "</div>"
      ],
      "text/plain": [
       "            Time  2g_accel  18g_accel  50g_accel  pore_pressure  200g_accel  \\\n",
       "0       0.000000  1.158287   1.155686   1.051377       6.055754    1.406234   \n",
       "1       0.000008  1.156603   1.154347   1.033844       6.207935    1.398365   \n",
       "2       0.000017  1.156164   1.152115   1.068235       6.140003    1.393119   \n",
       "3       0.000025  1.156844   1.150090   1.059688       6.402074    1.400988   \n",
       "4       0.000033  1.153441   1.152047   1.068219       5.843633    1.399857   \n",
       "...          ...       ...        ...        ...            ...         ...   \n",
       "119995  0.999967  1.147635   1.139725   1.143881      47.921482    1.390805   \n",
       "119996  0.999975  1.153472   1.143951   1.103898      48.026377    1.393376   \n",
       "119997  0.999983  1.153645   1.144942   1.105563      48.563173    1.392219   \n",
       "119998  0.999992  1.153616   1.147259   1.105846      47.884186    1.395099   \n",
       "119999  1.000000  1.157670   1.147681   1.099970      47.775629    1.395125   \n",
       "\n",
       "        55g_x_tilt  55g_y_tilt  250g_accel  \n",
       "0         0.068352    0.085721    1.110060  \n",
       "1         0.128195    0.042241    1.168528  \n",
       "2         0.156647    0.051780    1.039122  \n",
       "3         0.128570    0.086636    0.988505  \n",
       "4         0.132454    0.049215    1.090840  \n",
       "...            ...         ...         ...  \n",
       "119995    0.019532    0.044341    1.048659  \n",
       "119996    0.003799    0.052620    1.204694  \n",
       "119997    0.005839    0.041821    1.133535  \n",
       "119998    0.011733    0.047731    1.082624  \n",
       "119999    0.014073    0.042961    1.021663  \n",
       "\n",
       "[120000 rows x 9 columns]"
      ]
     },
     "execution_count": 14,
     "metadata": {},
     "output_type": "execute_result"
    }
   ],
   "source": [
    "file.df"
   ]
  },
  {
   "cell_type": "markdown",
   "metadata": {},
   "source": [
    "#### Manually plotting sensor information"
   ]
  },
  {
   "cell_type": "code",
   "execution_count": 15,
   "metadata": {},
   "outputs": [
    {
     "data": {
      "text/plain": [
       "{'accel': 'g', 'pressure': 'kPa', 'Time': 'min'}"
      ]
     },
     "execution_count": 15,
     "metadata": {},
     "output_type": "execute_result"
    }
   ],
   "source": [
    "# View the units that the file.df columns are in\n",
    "file.sensor_units\n"
   ]
  },
  {
   "cell_type": "code",
   "execution_count": 16,
   "metadata": {},
   "outputs": [
    {
     "data": {
      "image/png": "[encoded data removed]",
      "text/plain": [
       "<Figure size 640x480 with 1 Axes>"
      ]
     },
     "metadata": {},
     "output_type": "display_data"
    }
   ],
   "source": [
    "# Store the units for the plot label\n",
    "time_unit = file.sensor_units[\"Time\"]\n",
    "pressure_unit = file.sensor_units[\"pressure\"]\n",
    "\n",
    "# Plot the pressure data\n",
    "plt.plot(file.df[\"Time\"], file.df[\"pore_pressure\"])\n",
    "plt.xlabel(f\"Time ({time_unit})\")\n",
    "plt.ylabel(f\"Pore Pressure ({pressure_unit})\")\n",
    "\n",
    "plt.show()"
   ]
  },
  {
   "cell_type": "markdown",
   "metadata": {},
   "source": [
    "#### Automatically plot the file and all the sensors\n",
    "\n",
    "When appended to a file object ```.quick_view()``` plots the time series for each of the sensors. If ```interactive = True``` is set than the plot is interactive. Interactive plots take longer to load than non-interactive plots.\n",
    "\n",
    "Commonly I use this plot to:\n",
    "\n",
    "* Check that the code is identifying that the number of drops detected by the code matches what I see\n",
    "* Get a general impression for what the drops look like and what the pressure response looks like\n",
    "* Use the interactive plot to look at how well the sensors are calibrated. To find the start and stop of the drops the acceleration data from each of the accelerometers are \"stiched\" together. This means that at each data point the sensor that has the best resolution for that acceleration is used. For example if the highest acceleration from any of the sensors is measured to be 15 g's then the 18g accelerometer is trusted for that data. However, there are occasions when the 18g sensor might not be calibrarted correctly. Ploting the file data can help you see that.\n",
    "\n",
    "**Note**: If a sensor isn't calibrated correctly the current solution is to remove it from the stitching process by not including it in the ```pffpfolder``` creating statement. For example if the 200g accelerometer isn't calibrated correctly instead of creating the folder using:\n",
    "\n",
    "```python\n",
    "pffp_data_folder.analyze_all_files(store_df=True, use_pore_pressure=True, \n",
    "                              select_accel=[\"2g_accel\", \"18g_accel\", \"50g_accel\", \"200g_accel\", \"250g_accel\"],\n",
    "                              debug = False)\n",
    "```\n",
    "\n",
    "Use:\n",
    "\n",
    "```python\n",
    "\n",
    "pffp_data_folder.analyze_all_files(store_df=True, use_pore_pressure=True, \n",
    "                              select_accel=[\"2g_accel\", \"18g_accel\", \"50g_accel\", \"250g_accel\"],\n",
    "                              debug = False)\n",
    "\n",
    "```\n",
    "where ```\"200g_accel\"``` has been removed from the ```selected_accel``` list"
   ]
  },
  {
   "cell_type": "code",
   "execution_count": 17,
   "metadata": {},
   "outputs": [],
   "source": [
    "# Plot the whole file\n",
    "file.quick_view(interactive=True, legend=True, figsize=(8, 6))"
   ]
  },
  {
   "cell_type": "markdown",
   "metadata": {},
   "source": [
    "### Exploring the ```Drop``` object\n",
    "\n",
    "```Drop``` objects contain direct information about a single drop in a file.\n",
    "\n",
    "Note:\n",
    "* Acceleration data in the drop object includes a 1g offset down. This is so the integration of the kinematics can be done correctly."
   ]
  },
  {
   "cell_type": "markdown",
   "metadata": {},
   "source": [
    "#### Print the drop meta-data"
   ]
  },
  {
   "cell_type": "code",
   "execution_count": 173,
   "metadata": {},
   "outputs": [
    {
     "name": "stdout",
     "output_type": "stream",
     "text": [
      "----- Drop Info ----- \n",
      "Containing file: bLog0D2F.bin \n",
      "File Drop Index: 1 \n",
      "Water Drop: None            \n",
      "Drop indices: {'release_index': np.int64(35278), 'start_impulse_index': np.int64(42125), 'end_impulse_index': np.int64(42537)} \n",
      "Processed: True \n",
      "Manually Processed: False\n"
     ]
    }
   ],
   "source": [
    "print(drop)"
   ]
  },
  {
   "cell_type": "markdown",
   "metadata": {},
   "source": [
    "#### View the ```impulse_df```\n",
    "\n",
    "The ```impulse_df``` contains the kinematics of the drop during the impact."
   ]
  },
  {
   "cell_type": "code",
   "execution_count": 174,
   "metadata": {},
   "outputs": [
    {
     "data": {
      "text/html": [
       "<div>\n",
       "<style scoped>\n",
       "    .dataframe tbody tr th:only-of-type {\n",
       "        vertical-align: middle;\n",
       "    }\n",
       "\n",
       "    .dataframe tbody tr th {\n",
       "        vertical-align: top;\n",
       "    }\n",
       "\n",
       "    .dataframe thead th {\n",
       "        text-align: right;\n",
       "    }\n",
       "</style>\n",
       "<table border=\"1\" class=\"dataframe\">\n",
       "  <thead>\n",
       "    <tr style=\"text-align: right;\">\n",
       "      <th></th>\n",
       "      <th>Time</th>\n",
       "      <th>accel</th>\n",
       "      <th>velocity</th>\n",
       "      <th>displacement</th>\n",
       "    </tr>\n",
       "  </thead>\n",
       "  <tbody>\n",
       "    <tr>\n",
       "      <th>42125</th>\n",
       "      <td>21.062676</td>\n",
       "      <td>0.552564</td>\n",
       "      <td>4.227737</td>\n",
       "      <td>-0.000000</td>\n",
       "    </tr>\n",
       "    <tr>\n",
       "      <th>42126</th>\n",
       "      <td>21.063176</td>\n",
       "      <td>0.561103</td>\n",
       "      <td>4.227459</td>\n",
       "      <td>0.002114</td>\n",
       "    </tr>\n",
       "    <tr>\n",
       "      <th>42127</th>\n",
       "      <td>21.063676</td>\n",
       "      <td>0.627774</td>\n",
       "      <td>4.227161</td>\n",
       "      <td>0.004227</td>\n",
       "    </tr>\n",
       "    <tr>\n",
       "      <th>42128</th>\n",
       "      <td>21.064176</td>\n",
       "      <td>0.653584</td>\n",
       "      <td>4.226841</td>\n",
       "      <td>0.006341</td>\n",
       "    </tr>\n",
       "    <tr>\n",
       "      <th>42129</th>\n",
       "      <td>21.064676</td>\n",
       "      <td>0.615242</td>\n",
       "      <td>4.226524</td>\n",
       "      <td>0.008454</td>\n",
       "    </tr>\n",
       "    <tr>\n",
       "      <th>...</th>\n",
       "      <td>...</td>\n",
       "      <td>...</td>\n",
       "      <td>...</td>\n",
       "      <td>...</td>\n",
       "    </tr>\n",
       "    <tr>\n",
       "      <th>42532</th>\n",
       "      <td>21.266177</td>\n",
       "      <td>1.450775</td>\n",
       "      <td>-0.199696</td>\n",
       "      <td>0.498047</td>\n",
       "    </tr>\n",
       "    <tr>\n",
       "      <th>42533</th>\n",
       "      <td>21.266677</td>\n",
       "      <td>1.136930</td>\n",
       "      <td>-0.200343</td>\n",
       "      <td>0.497947</td>\n",
       "    </tr>\n",
       "    <tr>\n",
       "      <th>42534</th>\n",
       "      <td>21.267177</td>\n",
       "      <td>0.787795</td>\n",
       "      <td>-0.200824</td>\n",
       "      <td>0.497847</td>\n",
       "    </tr>\n",
       "    <tr>\n",
       "      <th>42535</th>\n",
       "      <td>21.267677</td>\n",
       "      <td>0.491336</td>\n",
       "      <td>-0.201144</td>\n",
       "      <td>0.497746</td>\n",
       "    </tr>\n",
       "    <tr>\n",
       "      <th>42536</th>\n",
       "      <td>21.268177</td>\n",
       "      <td>0.136314</td>\n",
       "      <td>-0.201300</td>\n",
       "      <td>0.497645</td>\n",
       "    </tr>\n",
       "  </tbody>\n",
       "</table>\n",
       "<p>412 rows × 4 columns</p>\n",
       "</div>"
      ],
      "text/plain": [
       "            Time     accel  velocity  displacement\n",
       "42125  21.062676  0.552564  4.227737     -0.000000\n",
       "42126  21.063176  0.561103  4.227459      0.002114\n",
       "42127  21.063676  0.627774  4.227161      0.004227\n",
       "42128  21.064176  0.653584  4.226841      0.006341\n",
       "42129  21.064676  0.615242  4.226524      0.008454\n",
       "...          ...       ...       ...           ...\n",
       "42532  21.266177  1.450775 -0.199696      0.498047\n",
       "42533  21.266677  1.136930 -0.200343      0.497947\n",
       "42534  21.267177  0.787795 -0.200824      0.497847\n",
       "42535  21.267677  0.491336 -0.201144      0.497746\n",
       "42536  21.268177  0.136314 -0.201300      0.497645\n",
       "\n",
       "[412 rows x 4 columns]"
      ]
     },
     "execution_count": 174,
     "metadata": {},
     "output_type": "execute_result"
    }
   ],
   "source": [
    "drop.impulse_df"
   ]
  },
  {
   "cell_type": "markdown",
   "metadata": {},
   "source": [
    "#### View the ```release_df```\n",
    "\n",
    "The ```release_df``` contains the kinematics during the entire drop (ie. from release until the end of impact)"
   ]
  },
  {
   "cell_type": "code",
   "execution_count": 175,
   "metadata": {},
   "outputs": [
    {
     "data": {
      "text/html": [
       "<div>\n",
       "<style scoped>\n",
       "    .dataframe tbody tr th:only-of-type {\n",
       "        vertical-align: middle;\n",
       "    }\n",
       "\n",
       "    .dataframe tbody tr th {\n",
       "        vertical-align: top;\n",
       "    }\n",
       "\n",
       "    .dataframe thead th {\n",
       "        text-align: right;\n",
       "    }\n",
       "</style>\n",
       "<table border=\"1\" class=\"dataframe\">\n",
       "  <thead>\n",
       "    <tr style=\"text-align: right;\">\n",
       "      <th></th>\n",
       "      <th>Time</th>\n",
       "      <th>accel</th>\n",
       "      <th>velocity</th>\n",
       "      <th>displacement</th>\n",
       "    </tr>\n",
       "  </thead>\n",
       "  <tbody>\n",
       "    <tr>\n",
       "      <th>35278</th>\n",
       "      <td>17.639147</td>\n",
       "      <td>-0.473753</td>\n",
       "      <td>0.000000</td>\n",
       "      <td>0.000000e+00</td>\n",
       "    </tr>\n",
       "    <tr>\n",
       "      <th>35279</th>\n",
       "      <td>17.639647</td>\n",
       "      <td>-0.510366</td>\n",
       "      <td>-0.000246</td>\n",
       "      <td>-6.150842e-08</td>\n",
       "    </tr>\n",
       "    <tr>\n",
       "      <th>35280</th>\n",
       "      <td>17.640147</td>\n",
       "      <td>-0.533876</td>\n",
       "      <td>-0.000507</td>\n",
       "      <td>-2.497914e-07</td>\n",
       "    </tr>\n",
       "    <tr>\n",
       "      <th>35281</th>\n",
       "      <td>17.640647</td>\n",
       "      <td>-0.541626</td>\n",
       "      <td>-0.000776</td>\n",
       "      <td>-5.705606e-07</td>\n",
       "    </tr>\n",
       "    <tr>\n",
       "      <th>35282</th>\n",
       "      <td>17.641147</td>\n",
       "      <td>-0.536880</td>\n",
       "      <td>-0.001046</td>\n",
       "      <td>-1.025957e-06</td>\n",
       "    </tr>\n",
       "    <tr>\n",
       "      <th>...</th>\n",
       "      <td>...</td>\n",
       "      <td>...</td>\n",
       "      <td>...</td>\n",
       "      <td>...</td>\n",
       "    </tr>\n",
       "    <tr>\n",
       "      <th>42532</th>\n",
       "      <td>21.266177</td>\n",
       "      <td>1.450775</td>\n",
       "      <td>0.199696</td>\n",
       "      <td>-1.340128e+01</td>\n",
       "    </tr>\n",
       "    <tr>\n",
       "      <th>42533</th>\n",
       "      <td>21.266677</td>\n",
       "      <td>1.136930</td>\n",
       "      <td>0.200343</td>\n",
       "      <td>-1.340118e+01</td>\n",
       "    </tr>\n",
       "    <tr>\n",
       "      <th>42534</th>\n",
       "      <td>21.267177</td>\n",
       "      <td>0.787795</td>\n",
       "      <td>0.200824</td>\n",
       "      <td>-1.340108e+01</td>\n",
       "    </tr>\n",
       "    <tr>\n",
       "      <th>42535</th>\n",
       "      <td>21.267677</td>\n",
       "      <td>0.491336</td>\n",
       "      <td>0.201144</td>\n",
       "      <td>-1.340098e+01</td>\n",
       "    </tr>\n",
       "    <tr>\n",
       "      <th>42536</th>\n",
       "      <td>21.268177</td>\n",
       "      <td>0.136314</td>\n",
       "      <td>0.201300</td>\n",
       "      <td>-1.340088e+01</td>\n",
       "    </tr>\n",
       "  </tbody>\n",
       "</table>\n",
       "<p>7259 rows × 4 columns</p>\n",
       "</div>"
      ],
      "text/plain": [
       "            Time     accel  velocity  displacement\n",
       "35278  17.639147 -0.473753  0.000000  0.000000e+00\n",
       "35279  17.639647 -0.510366 -0.000246 -6.150842e-08\n",
       "35280  17.640147 -0.533876 -0.000507 -2.497914e-07\n",
       "35281  17.640647 -0.541626 -0.000776 -5.705606e-07\n",
       "35282  17.641147 -0.536880 -0.001046 -1.025957e-06\n",
       "...          ...       ...       ...           ...\n",
       "42532  21.266177  1.450775  0.199696 -1.340128e+01\n",
       "42533  21.266677  1.136930  0.200343 -1.340118e+01\n",
       "42534  21.267177  0.787795  0.200824 -1.340108e+01\n",
       "42535  21.267677  0.491336  0.201144 -1.340098e+01\n",
       "42536  21.268177  0.136314  0.201300 -1.340088e+01\n",
       "\n",
       "[7259 rows x 4 columns]"
      ]
     },
     "execution_count": 175,
     "metadata": {},
     "output_type": "execute_result"
    }
   ],
   "source": [
    "drop.release_df"
   ]
  },
  {
   "cell_type": "markdown",
   "metadata": {},
   "source": [
    "#### Plotting the kinematics of the entire drop\n",
    "\n",
    "This plot goes from the point of release to the point the drop ends."
   ]
  },
  {
   "cell_type": "code",
   "execution_count": 176,
   "metadata": {},
   "outputs": [
    {
     "data": {
      "image/png": "[encoded data removed]",
      "text/plain": [
       "<Figure size 800x600 with 3 Axes>"
      ]
     },
     "metadata": {},
     "output_type": "display_data"
    }
   ],
   "source": [
    "drop.quick_view_release(interactive=False, legend=False, figsize = (8, 6))"
   ]
  },
  {
   "cell_type": "markdown",
   "metadata": {},
   "source": [
    "#### Plotting the kinematics of the impact (impulse)\n",
    "\n",
    "Plots the drop kinematics just during the impact."
   ]
  },
  {
   "cell_type": "code",
   "execution_count": 177,
   "metadata": {},
   "outputs": [
    {
     "name": "stdout",
     "output_type": "stream",
     "text": [
      "s\n"
     ]
    },
    {
     "data": {
      "image/png": "[encoded data removed]",
      "text/plain": [
       "<Figure size 800x600 with 3 Axes>"
      ]
     },
     "metadata": {},
     "output_type": "display_data"
    }
   ],
   "source": [
    "drop.quick_view_impulse(interactive=False, legend = False, figsize = (8, 6))"
   ]
  },
  {
   "cell_type": "markdown",
   "metadata": {},
   "source": [
    "#### Plot the impulse selection\n",
    "\n",
    "This plots a comparison of the part of the drop identified as the impact (impulse) and some of the drop on either end."
   ]
  },
  {
   "cell_type": "code",
   "execution_count": 178,
   "metadata": {},
   "outputs": [
    {
     "data": {
      "image/png": "[encoded data removed]",
      "text/plain": [
       "<Figure size 640x480 with 1 Axes>"
      ]
     },
     "metadata": {},
     "output_type": "display_data"
    }
   ],
   "source": [
    "drop.quick_view_impulse_selection(offset = 10000, legend = True, draw_line = True, line_val = 0)"
   ]
  },
  {
   "cell_type": "code",
   "execution_count": 179,
   "metadata": {},
   "outputs": [
    {
     "name": "stdout",
     "output_type": "stream",
     "text": [
      "----- Drop Info ----- \n",
      "Containing file: bLog0D2F.bin \n",
      "File Drop Index: 1 \n",
      "Water Drop: None            \n",
      "Drop indices: {'release_index': np.int64(35278), 'start_impulse_index': np.int64(42125), 'end_impulse_index': np.int64(42537)} \n",
      "Processed: True \n",
      "Manually Processed: False\n"
     ]
    }
   ],
   "source": [
    "print(drop)"
   ]
  },
  {
   "cell_type": "markdown",
   "metadata": {},
   "source": [
    "#### Set the pffp config for the drop\n",
    "\n",
    "As the pffp config can change drop to drop. The settings need to be set for each drop individually. This could be done as a loop over all the drops if they have have the same configuration."
   ]
  },
  {
   "cell_type": "code",
   "execution_count": 180,
   "metadata": {},
   "outputs": [],
   "source": [
    "pffp_id = pffp_data_folder.pffp_id\n",
    "drop.get_pffp_tip_values(pffp_id=pffp_id, tip_type=\"cone\", date_string = \"April_2024\", file_dir = tip_dir)\n",
    "\n",
    "drop.water_drop = 1\n"
   ]
  },
  {
   "cell_type": "code",
   "execution_count": 181,
   "metadata": {},
   "outputs": [],
   "source": [
    "\n",
    "# Convert the tip values from the ones in the excel sheet to the ones used in the analysis\n",
    "drop.convert_tip_vals()"
   ]
  },
  {
   "cell_type": "markdown",
   "metadata": {},
   "source": [
    "#### Print the information about the tip configuration for the drop"
   ]
  },
  {
   "cell_type": "code",
   "execution_count": 182,
   "metadata": {},
   "outputs": [
    {
     "name": "stdout",
     "output_type": "stream",
     "text": [
      "Cone type: cone\n"
     ]
    },
    {
     "data": {
      "text/html": [
       "<div>\n",
       "<style scoped>\n",
       "    .dataframe tbody tr th:only-of-type {\n",
       "        vertical-align: middle;\n",
       "    }\n",
       "\n",
       "    .dataframe tbody tr th {\n",
       "        vertical-align: top;\n",
       "    }\n",
       "\n",
       "    .dataframe thead th {\n",
       "        text-align: right;\n",
       "    }\n",
       "</style>\n",
       "<table border=\"1\" class=\"dataframe\">\n",
       "  <thead>\n",
       "    <tr style=\"text-align: right;\">\n",
       "      <th></th>\n",
       "      <th>Properties</th>\n",
       "      <th>units</th>\n",
       "      <th>cone_April_2024</th>\n",
       "    </tr>\n",
       "  </thead>\n",
       "  <tbody>\n",
       "    <tr>\n",
       "      <th>0</th>\n",
       "      <td>pffp_mass</td>\n",
       "      <td>kg</td>\n",
       "      <td>7.710000</td>\n",
       "    </tr>\n",
       "    <tr>\n",
       "      <th>1</th>\n",
       "      <td>tip_height</td>\n",
       "      <td>m</td>\n",
       "      <td>0.075500</td>\n",
       "    </tr>\n",
       "    <tr>\n",
       "      <th>2</th>\n",
       "      <td>base_radius</td>\n",
       "      <td>m</td>\n",
       "      <td>0.043750</td>\n",
       "    </tr>\n",
       "    <tr>\n",
       "      <th>3</th>\n",
       "      <td>tip_radius</td>\n",
       "      <td>m</td>\n",
       "      <td>0.002200</td>\n",
       "    </tr>\n",
       "    <tr>\n",
       "      <th>4</th>\n",
       "      <td>radius_coeff</td>\n",
       "      <td>-</td>\n",
       "      <td>0.000000</td>\n",
       "    </tr>\n",
       "    <tr>\n",
       "      <th>5</th>\n",
       "      <td>pffp_volume</td>\n",
       "      <td>m^3</td>\n",
       "      <td>0.002473</td>\n",
       "    </tr>\n",
       "  </tbody>\n",
       "</table>\n",
       "</div>"
      ],
      "text/plain": [
       "     Properties units  cone_April_2024\n",
       "0     pffp_mass    kg         7.710000\n",
       "1    tip_height     m         0.075500\n",
       "2   base_radius     m         0.043750\n",
       "3    tip_radius     m         0.002200\n",
       "4  radius_coeff     -         0.000000\n",
       "5   pffp_volume   m^3         0.002473"
      ]
     },
     "metadata": {},
     "output_type": "display_data"
    }
   ],
   "source": [
    "# Print the cone type\n",
    "print(f\"Cone type: {drop.pffp_config[\"tip_type\"]}\")\n",
    "\n",
    "# Display the tip props df\n",
    "display(drop.pffp_config[\"tip_props\"])"
   ]
  },
  {
   "cell_type": "markdown",
   "metadata": {},
   "source": [
    "### Calculate the bearing capacity\n",
    "\n",
    "The next section is on calculating the bearing capacity. The method demonstrated here is using the historic quasi-static bearing capacity method. The White et al. method is also implemented but that isn't demonstrated here as the current soil is likely a clayey soil."
   ]
  },
  {
   "cell_type": "code",
   "execution_count": 183,
   "metadata": {},
   "outputs": [
    {
     "name": "stderr",
     "output_type": "stream",
     "text": [
      "/mnt/data/the_deep/Geotech_Research/Field_Analysis/BlueDrop_Analysis_Lib/Examples/../../BlueDrop_Analysis_Lib/lib/mechanics_functions/bearing_capacity_funcs.py:293: RuntimeWarning:\n",
      "\n",
      "invalid value encountered in log10\n",
      "\n",
      "/mnt/data/the_deep/Geotech_Research/Field_Analysis/BlueDrop_Analysis_Lib/Examples/../../BlueDrop_Analysis_Lib/lib/mechanics_functions/bearing_capacity_funcs.py:293: RuntimeWarning:\n",
      "\n",
      "invalid value encountered in log10\n",
      "\n",
      "/mnt/data/the_deep/Geotech_Research/Field_Analysis/BlueDrop_Analysis_Lib/Examples/../../BlueDrop_Analysis_Lib/lib/mechanics_functions/bearing_capacity_funcs.py:293: RuntimeWarning:\n",
      "\n",
      "invalid value encountered in log10\n",
      "\n",
      "/mnt/data/the_deep/Geotech_Research/Field_Analysis/BlueDrop_Analysis_Lib/Examples/../../BlueDrop_Analysis_Lib/lib/mechanics_functions/bearing_capacity_funcs.py:293: RuntimeWarning:\n",
      "\n",
      "invalid value encountered in log10\n",
      "\n",
      "/mnt/data/the_deep/Geotech_Research/Field_Analysis/BlueDrop_Analysis_Lib/Examples/../../BlueDrop_Analysis_Lib/lib/mechanics_functions/bearing_capacity_funcs.py:293: RuntimeWarning:\n",
      "\n",
      "invalid value encountered in log10\n",
      "\n",
      "/mnt/data/the_deep/Geotech_Research/Field_Analysis/BlueDrop_Analysis_Lib/Examples/../../BlueDrop_Analysis_Lib/lib/mechanics_functions/bearing_capacity_funcs.py:293: RuntimeWarning:\n",
      "\n",
      "invalid value encountered in log10\n",
      "\n",
      "/mnt/data/the_deep/Geotech_Research/Field_Analysis/BlueDrop_Analysis_Lib/Examples/../../BlueDrop_Analysis_Lib/lib/mechanics_functions/bearing_capacity_funcs.py:293: RuntimeWarning:\n",
      "\n",
      "invalid value encountered in log10\n",
      "\n",
      "/mnt/data/the_deep/Geotech_Research/Field_Analysis/BlueDrop_Analysis_Lib/Examples/../../BlueDrop_Analysis_Lib/lib/mechanics_functions/bearing_capacity_funcs.py:293: RuntimeWarning:\n",
      "\n",
      "invalid value encountered in log10\n",
      "\n",
      "/mnt/data/the_deep/Geotech_Research/Field_Analysis/BlueDrop_Analysis_Lib/Examples/../../BlueDrop_Analysis_Lib/lib/mechanics_functions/bearing_capacity_funcs.py:293: RuntimeWarning:\n",
      "\n",
      "invalid value encountered in log10\n",
      "\n",
      "/mnt/data/the_deep/Geotech_Research/Field_Analysis/BlueDrop_Analysis_Lib/Examples/../../BlueDrop_Analysis_Lib/lib/mechanics_functions/bearing_capacity_funcs.py:293: RuntimeWarning:\n",
      "\n",
      "invalid value encountered in log10\n",
      "\n",
      "/mnt/data/the_deep/Geotech_Research/Field_Analysis/BlueDrop_Analysis_Lib/Examples/../../BlueDrop_Analysis_Lib/lib/mechanics_functions/bearing_capacity_funcs.py:293: RuntimeWarning:\n",
      "\n",
      "invalid value encountered in log10\n",
      "\n",
      "/mnt/data/the_deep/Geotech_Research/Field_Analysis/BlueDrop_Analysis_Lib/Examples/../../BlueDrop_Analysis_Lib/lib/mechanics_functions/bearing_capacity_funcs.py:293: RuntimeWarning:\n",
      "\n",
      "invalid value encountered in log10\n",
      "\n"
     ]
    }
   ],
   "source": [
    "# Set k_factor values that are wanted\n",
    "k_factor_vals = [0.2, 0.5, 0.9, 1.2, 1.5]\n",
    "\n",
    "# Set the drag coefficient\n",
    "drag_coeff = 0.0 # 0.13830 # testing a drag coefficient of 0.13830 \n",
    "for name in [\"mantle\", \"projected\"]:\n",
    "    drop.calc_drop_contact_area(area_type = name)\n",
    "    drop.calc_drop_dynamic_bearing(area_type = name, drag_coeff = drag_coeff)\n",
    "    for val in k_factor_vals:\n",
    "        drop.calc_drop_qs_bearing(k_factor = val, area_type = name)\n",
    "        drop.calc_drop_qs_bearing(k_factor = val, area_type = name)\n",
    "\n"
   ]
  },
  {
   "cell_type": "markdown",
   "metadata": {},
   "source": [
    "#### Showing the bearing capacity dfs\n",
    "\n",
    "When the bearing capacity is calculated the results are stored in a dataframe. The dfs are stored as ```projected``` and ```mantle```"
   ]
  },
  {
   "cell_type": "code",
   "execution_count": 184,
   "metadata": {},
   "outputs": [
    {
     "data": {
      "text/plain": [
       "dict_keys(['projected', 'mantle'])"
      ]
     },
     "execution_count": 184,
     "metadata": {},
     "output_type": "execute_result"
    }
   ],
   "source": [
    "drop.bearing_dfs.keys()"
   ]
  },
  {
   "cell_type": "code",
   "execution_count": 185,
   "metadata": {},
   "outputs": [
    {
     "data": {
      "text/html": [
       "<div>\n",
       "<style scoped>\n",
       "    .dataframe tbody tr th:only-of-type {\n",
       "        vertical-align: middle;\n",
       "    }\n",
       "\n",
       "    .dataframe tbody tr th {\n",
       "        vertical-align: top;\n",
       "    }\n",
       "\n",
       "    .dataframe thead th {\n",
       "        text-align: right;\n",
       "    }\n",
       "</style>\n",
       "<table border=\"1\" class=\"dataframe\">\n",
       "  <thead>\n",
       "    <tr style=\"text-align: right;\">\n",
       "      <th></th>\n",
       "      <th>contact_area_projected</th>\n",
       "      <th>qDyn_projected</th>\n",
       "      <th>qsbc_proj_0.2</th>\n",
       "      <th>qsbc_proj_0.5</th>\n",
       "      <th>qsbc_proj_0.9</th>\n",
       "      <th>qsbc_proj_1.2</th>\n",
       "      <th>qsbc_proj_1.5</th>\n",
       "    </tr>\n",
       "  </thead>\n",
       "  <tbody>\n",
       "    <tr>\n",
       "      <th>0</th>\n",
       "      <td>0.000015</td>\n",
       "      <td>3.625882e+06</td>\n",
       "      <td>2.474979e+06</td>\n",
       "      <td>1.676678e+06</td>\n",
       "      <td>1.172449e+06</td>\n",
       "      <td>956673.533504</td>\n",
       "      <td>807974.976189</td>\n",
       "    </tr>\n",
       "    <tr>\n",
       "      <th>1</th>\n",
       "      <td>0.000036</td>\n",
       "      <td>1.553268e+06</td>\n",
       "      <td>1.060244e+06</td>\n",
       "      <td>7.182660e+05</td>\n",
       "      <td>5.022621e+05</td>\n",
       "      <td>409826.815699</td>\n",
       "      <td>346126.413149</td>\n",
       "    </tr>\n",
       "    <tr>\n",
       "      <th>2</th>\n",
       "      <td>0.000064</td>\n",
       "      <td>8.655144e+05</td>\n",
       "      <td>5.907933e+05</td>\n",
       "      <td>4.002361e+05</td>\n",
       "      <td>2.798738e+05</td>\n",
       "      <td>228366.563484</td>\n",
       "      <td>192871.083704</td>\n",
       "    </tr>\n",
       "    <tr>\n",
       "      <th>3</th>\n",
       "      <td>0.000102</td>\n",
       "      <td>5.497684e+05</td>\n",
       "      <td>3.752693e+05</td>\n",
       "      <td>2.542290e+05</td>\n",
       "      <td>1.777755e+05</td>\n",
       "      <td>145058.279285</td>\n",
       "      <td>122511.646809</td>\n",
       "    </tr>\n",
       "    <tr>\n",
       "      <th>4</th>\n",
       "      <td>0.000148</td>\n",
       "      <td>3.769863e+05</td>\n",
       "      <td>2.573302e+05</td>\n",
       "      <td>1.743308e+05</td>\n",
       "      <td>1.219051e+05</td>\n",
       "      <td>99470.156095</td>\n",
       "      <td>84009.404343</td>\n",
       "    </tr>\n",
       "    <tr>\n",
       "      <th>...</th>\n",
       "      <td>...</td>\n",
       "      <td>...</td>\n",
       "      <td>...</td>\n",
       "      <td>...</td>\n",
       "      <td>...</td>\n",
       "      <td>...</td>\n",
       "      <td>...</td>\n",
       "    </tr>\n",
       "    <tr>\n",
       "      <th>407</th>\n",
       "      <td>0.006013</td>\n",
       "      <td>1.032027e+04</td>\n",
       "      <td>1.032027e+04</td>\n",
       "      <td>1.032027e+04</td>\n",
       "      <td>1.032027e+04</td>\n",
       "      <td>10320.265255</td>\n",
       "      <td>10320.265255</td>\n",
       "    </tr>\n",
       "    <tr>\n",
       "      <th>408</th>\n",
       "      <td>0.006013</td>\n",
       "      <td>9.917860e+03</td>\n",
       "      <td>9.917860e+03</td>\n",
       "      <td>9.917860e+03</td>\n",
       "      <td>9.917860e+03</td>\n",
       "      <td>9917.859503</td>\n",
       "      <td>9917.859503</td>\n",
       "    </tr>\n",
       "    <tr>\n",
       "      <th>409</th>\n",
       "      <td>0.006013</td>\n",
       "      <td>9.470206e+03</td>\n",
       "      <td>9.470206e+03</td>\n",
       "      <td>9.470206e+03</td>\n",
       "      <td>9.470206e+03</td>\n",
       "      <td>9470.205961</td>\n",
       "      <td>9470.205961</td>\n",
       "    </tr>\n",
       "    <tr>\n",
       "      <th>410</th>\n",
       "      <td>0.006013</td>\n",
       "      <td>9.090093e+03</td>\n",
       "      <td>9.090093e+03</td>\n",
       "      <td>9.090093e+03</td>\n",
       "      <td>9.090093e+03</td>\n",
       "      <td>9090.093401</td>\n",
       "      <td>9090.093401</td>\n",
       "    </tr>\n",
       "    <tr>\n",
       "      <th>411</th>\n",
       "      <td>0.006013</td>\n",
       "      <td>8.634892e+03</td>\n",
       "      <td>8.634892e+03</td>\n",
       "      <td>8.634892e+03</td>\n",
       "      <td>8.634892e+03</td>\n",
       "      <td>8634.892077</td>\n",
       "      <td>8634.892077</td>\n",
       "    </tr>\n",
       "  </tbody>\n",
       "</table>\n",
       "<p>412 rows × 7 columns</p>\n",
       "</div>"
      ],
      "text/plain": [
       "     contact_area_projected  qDyn_projected  qsbc_proj_0.2  qsbc_proj_0.5  \\\n",
       "0                  0.000015    3.625882e+06   2.474979e+06   1.676678e+06   \n",
       "1                  0.000036    1.553268e+06   1.060244e+06   7.182660e+05   \n",
       "2                  0.000064    8.655144e+05   5.907933e+05   4.002361e+05   \n",
       "3                  0.000102    5.497684e+05   3.752693e+05   2.542290e+05   \n",
       "4                  0.000148    3.769863e+05   2.573302e+05   1.743308e+05   \n",
       "..                      ...             ...            ...            ...   \n",
       "407                0.006013    1.032027e+04   1.032027e+04   1.032027e+04   \n",
       "408                0.006013    9.917860e+03   9.917860e+03   9.917860e+03   \n",
       "409                0.006013    9.470206e+03   9.470206e+03   9.470206e+03   \n",
       "410                0.006013    9.090093e+03   9.090093e+03   9.090093e+03   \n",
       "411                0.006013    8.634892e+03   8.634892e+03   8.634892e+03   \n",
       "\n",
       "     qsbc_proj_0.9  qsbc_proj_1.2  qsbc_proj_1.5  \n",
       "0     1.172449e+06  956673.533504  807974.976189  \n",
       "1     5.022621e+05  409826.815699  346126.413149  \n",
       "2     2.798738e+05  228366.563484  192871.083704  \n",
       "3     1.777755e+05  145058.279285  122511.646809  \n",
       "4     1.219051e+05   99470.156095   84009.404343  \n",
       "..             ...            ...            ...  \n",
       "407   1.032027e+04   10320.265255   10320.265255  \n",
       "408   9.917860e+03    9917.859503    9917.859503  \n",
       "409   9.470206e+03    9470.205961    9470.205961  \n",
       "410   9.090093e+03    9090.093401    9090.093401  \n",
       "411   8.634892e+03    8634.892077    8634.892077  \n",
       "\n",
       "[412 rows x 7 columns]"
      ]
     },
     "execution_count": 185,
     "metadata": {},
     "output_type": "execute_result"
    }
   ],
   "source": [
    "drop.bearing_dfs[\"projected\"]"
   ]
  },
  {
   "cell_type": "code",
   "execution_count": 186,
   "metadata": {},
   "outputs": [
    {
     "data": {
      "text/html": [
       "<div>\n",
       "<style scoped>\n",
       "    .dataframe tbody tr th:only-of-type {\n",
       "        vertical-align: middle;\n",
       "    }\n",
       "\n",
       "    .dataframe tbody tr th {\n",
       "        vertical-align: top;\n",
       "    }\n",
       "\n",
       "    .dataframe thead th {\n",
       "        text-align: right;\n",
       "    }\n",
       "</style>\n",
       "<table border=\"1\" class=\"dataframe\">\n",
       "  <thead>\n",
       "    <tr style=\"text-align: right;\">\n",
       "      <th></th>\n",
       "      <th>contact_area_mantle</th>\n",
       "      <th>qDyn_mantle</th>\n",
       "      <th>qsbc_mant_0.2</th>\n",
       "      <th>qsbc_mant_0.5</th>\n",
       "      <th>qsbc_mant_0.9</th>\n",
       "      <th>qsbc_mant_1.2</th>\n",
       "      <th>qsbc_mant_1.5</th>\n",
       "    </tr>\n",
       "  </thead>\n",
       "  <tbody>\n",
       "    <tr>\n",
       "      <th>0</th>\n",
       "      <td>0.000015</td>\n",
       "      <td>3.625882e+06</td>\n",
       "      <td>2.474979e+06</td>\n",
       "      <td>1.676678e+06</td>\n",
       "      <td>1.172449e+06</td>\n",
       "      <td>956673.533504</td>\n",
       "      <td>807974.976189</td>\n",
       "    </tr>\n",
       "    <tr>\n",
       "      <th>1</th>\n",
       "      <td>0.000042</td>\n",
       "      <td>1.315099e+06</td>\n",
       "      <td>8.976722e+05</td>\n",
       "      <td>6.081312e+05</td>\n",
       "      <td>4.252481e+05</td>\n",
       "      <td>346986.314051</td>\n",
       "      <td>293053.367163</td>\n",
       "    </tr>\n",
       "    <tr>\n",
       "      <th>2</th>\n",
       "      <td>0.000088</td>\n",
       "      <td>6.325480e+05</td>\n",
       "      <td>4.317723e+05</td>\n",
       "      <td>2.925065e+05</td>\n",
       "      <td>2.045415e+05</td>\n",
       "      <td>166898.210295</td>\n",
       "      <td>140956.881764</td>\n",
       "    </tr>\n",
       "    <tr>\n",
       "      <th>3</th>\n",
       "      <td>0.000152</td>\n",
       "      <td>3.671602e+05</td>\n",
       "      <td>2.506218e+05</td>\n",
       "      <td>1.697856e+05</td>\n",
       "      <td>1.187265e+05</td>\n",
       "      <td>96876.463980</td>\n",
       "      <td>81818.805502</td>\n",
       "    </tr>\n",
       "    <tr>\n",
       "      <th>4</th>\n",
       "      <td>0.000234</td>\n",
       "      <td>2.373809e+05</td>\n",
       "      <td>1.620358e+05</td>\n",
       "      <td>1.097727e+05</td>\n",
       "      <td>7.676125e+04</td>\n",
       "      <td>62634.417738</td>\n",
       "      <td>52899.083827</td>\n",
       "    </tr>\n",
       "    <tr>\n",
       "      <th>...</th>\n",
       "      <td>...</td>\n",
       "      <td>...</td>\n",
       "      <td>...</td>\n",
       "      <td>...</td>\n",
       "      <td>...</td>\n",
       "      <td>...</td>\n",
       "      <td>...</td>\n",
       "    </tr>\n",
       "    <tr>\n",
       "      <th>407</th>\n",
       "      <td>0.011993</td>\n",
       "      <td>5.174323e+03</td>\n",
       "      <td>5.174323e+03</td>\n",
       "      <td>5.174323e+03</td>\n",
       "      <td>5.174323e+03</td>\n",
       "      <td>5174.323397</td>\n",
       "      <td>5174.323397</td>\n",
       "    </tr>\n",
       "    <tr>\n",
       "      <th>408</th>\n",
       "      <td>0.011993</td>\n",
       "      <td>4.972567e+03</td>\n",
       "      <td>4.972567e+03</td>\n",
       "      <td>4.972567e+03</td>\n",
       "      <td>4.972567e+03</td>\n",
       "      <td>4972.567197</td>\n",
       "      <td>4972.567197</td>\n",
       "    </tr>\n",
       "    <tr>\n",
       "      <th>409</th>\n",
       "      <td>0.011993</td>\n",
       "      <td>4.748125e+03</td>\n",
       "      <td>4.748125e+03</td>\n",
       "      <td>4.748125e+03</td>\n",
       "      <td>4.748125e+03</td>\n",
       "      <td>4748.124885</td>\n",
       "      <td>4748.124885</td>\n",
       "    </tr>\n",
       "    <tr>\n",
       "      <th>410</th>\n",
       "      <td>0.011993</td>\n",
       "      <td>4.557546e+03</td>\n",
       "      <td>4.557546e+03</td>\n",
       "      <td>4.557546e+03</td>\n",
       "      <td>4.557546e+03</td>\n",
       "      <td>4557.545936</td>\n",
       "      <td>4557.545936</td>\n",
       "    </tr>\n",
       "    <tr>\n",
       "      <th>411</th>\n",
       "      <td>0.011993</td>\n",
       "      <td>4.329319e+03</td>\n",
       "      <td>4.329319e+03</td>\n",
       "      <td>4.329319e+03</td>\n",
       "      <td>4.329319e+03</td>\n",
       "      <td>4329.319354</td>\n",
       "      <td>4329.319354</td>\n",
       "    </tr>\n",
       "  </tbody>\n",
       "</table>\n",
       "<p>412 rows × 7 columns</p>\n",
       "</div>"
      ],
      "text/plain": [
       "     contact_area_mantle   qDyn_mantle  qsbc_mant_0.2  qsbc_mant_0.5  \\\n",
       "0               0.000015  3.625882e+06   2.474979e+06   1.676678e+06   \n",
       "1               0.000042  1.315099e+06   8.976722e+05   6.081312e+05   \n",
       "2               0.000088  6.325480e+05   4.317723e+05   2.925065e+05   \n",
       "3               0.000152  3.671602e+05   2.506218e+05   1.697856e+05   \n",
       "4               0.000234  2.373809e+05   1.620358e+05   1.097727e+05   \n",
       "..                   ...           ...            ...            ...   \n",
       "407             0.011993  5.174323e+03   5.174323e+03   5.174323e+03   \n",
       "408             0.011993  4.972567e+03   4.972567e+03   4.972567e+03   \n",
       "409             0.011993  4.748125e+03   4.748125e+03   4.748125e+03   \n",
       "410             0.011993  4.557546e+03   4.557546e+03   4.557546e+03   \n",
       "411             0.011993  4.329319e+03   4.329319e+03   4.329319e+03   \n",
       "\n",
       "     qsbc_mant_0.9  qsbc_mant_1.2  qsbc_mant_1.5  \n",
       "0     1.172449e+06  956673.533504  807974.976189  \n",
       "1     4.252481e+05  346986.314051  293053.367163  \n",
       "2     2.045415e+05  166898.210295  140956.881764  \n",
       "3     1.187265e+05   96876.463980   81818.805502  \n",
       "4     7.676125e+04   62634.417738   52899.083827  \n",
       "..             ...            ...            ...  \n",
       "407   5.174323e+03    5174.323397    5174.323397  \n",
       "408   4.972567e+03    4972.567197    4972.567197  \n",
       "409   4.748125e+03    4748.124885    4748.124885  \n",
       "410   4.557546e+03    4557.545936    4557.545936  \n",
       "411   4.329319e+03    4329.319354    4329.319354  \n",
       "\n",
       "[412 rows x 7 columns]"
      ]
     },
     "execution_count": 186,
     "metadata": {},
     "output_type": "execute_result"
    }
   ],
   "source": [
    "drop.bearing_dfs[\"mantle\"]"
   ]
  },
  {
   "cell_type": "markdown",
   "metadata": {},
   "source": [
    "#### Plot the bearing capacity\n",
    "\n",
    "The following plots the calculated bearing capacity graphs."
   ]
  },
  {
   "cell_type": "code",
   "execution_count": 187,
   "metadata": {},
   "outputs": [
    {
     "data": {
      "image/png": "[encoded data removed]",
      "text/plain": [
       "<Figure size 640x480 with 1 Axes>"
      ]
     },
     "metadata": {},
     "output_type": "display_data"
    }
   ],
   "source": [
    "k_factor_vals = [0.2, 0.5, 0.9, 1.2, 1.5]\n",
    "\n",
    "displacement = drop.impulse_df[\"displacement\"]\n",
    "df = drop.bearing_dfs[\"mantle\"]\n",
    "\n",
    "start = 30\n",
    "# start = 0\n",
    "end = -1\n",
    "for val in k_factor_vals:\n",
    "    column = \"qsbc_mant_{}\".format(val)\n",
    "    k_name=  \"k = {}\".format(val)\n",
    "    bearing = df[column][start:end]\n",
    "    bearing = bearing/1e3\n",
    "    plt.plot(bearing, displacement[start:end] * 100, label= k_name)\n",
    "\n",
    "# Format the plot\n",
    "plt.title(\"Predicted (Mantle) Bearing Capacity vs. Depth\")\n",
    "plt.ylabel(\"Penetration Depth (cm)\")\n",
    "plt.xlabel(\"QSBC (kPa)\")\n",
    "plt.gca().invert_yaxis()\n",
    "plt.legend()\n",
    "\n",
    "# Save the figure\n",
    "save = False\n",
    "\n",
    "if save:\n",
    "    plt.savefig(\"Bearing_Plot.png\", dpi = 300)\n",
    "\n",
    "# Show the figure\n",
    "plt.show()"
   ]
  },
  {
   "cell_type": "markdown",
   "metadata": {},
   "source": [
    "#### Generate the traditional plot\n",
    "\n",
    "There's a plan to make this into a function that lets you save the figure. I haven't gotten around to it yet."
   ]
  },
  {
   "cell_type": "code",
   "execution_count": 188,
   "metadata": {},
   "outputs": [
    {
     "data": {
      "image/png": "[encoded data removed]",
      "text/plain": [
       "<Figure size 400x500 with 1 Axes>"
      ]
     },
     "metadata": {},
     "output_type": "display_data"
    }
   ],
   "source": [
    "# Store  the data to make it easier to write in the plot function\n",
    "df = drop.impulse_df\n",
    "time = df[\"Time\"]\n",
    "accel = df[\"accel\"]/9.81\n",
    "displacement =  df[\"displacement\"] * 100\n",
    "velocity = df[\"velocity\"]\n",
    "\n",
    "# Create the subplot\n",
    "fig, axs = plt.subplots(nrows = 1, ncols = 1, figsize = (4,5))\n",
    "\n",
    "# Make axs into an array to make indexing easier\n",
    "axs = np.atleast_1d(axs)\n",
    "\n",
    "# Plot the data\n",
    "axs[0].plot(accel, displacement, label = \"Acceleration\")\n",
    "axs[0].plot(velocity, displacement, label = \"Velocity\")\n",
    "\n",
    "# Format the plot\n",
    "axs[0].set_xlabel(\"Acceleration (g)/Velocity (m/s)\")\n",
    "axs[0].set_ylabel(\"Penetration Depth (cm)\")\n",
    "axs[0].invert_yaxis()\n",
    "axs[0].legend()\n",
    "\n",
    "plt.tight_layout()\n",
    "\n",
    "# Save the figure \n",
    "save = False\n",
    "if save: \n",
    "    axs[0].savefig(\"accel_depth profile\")\n",
    "\n",
    "plt.show()"
   ]
  },
  {
   "cell_type": "markdown",
   "metadata": {},
   "source": [
    "#### Generating the traditional plot at the file level\n",
    "\n",
    "There's also a function at the file level that can generate the acceleration/velocity plot for all of the drops in the file.\n",
    "\n",
    "**Note:** this function is going to be changed in the future so the plotting happens at the drop level and then this function just calls the drop function."
   ]
  },
  {
   "cell_type": "code",
   "execution_count": 189,
   "metadata": {},
   "outputs": [
    {
     "data": {
      "image/png": "[encoded data removed]",
      "text/plain": [
       "<Figure size 400x600 with 1 Axes>"
      ]
     },
     "metadata": {},
     "output_type": "display_data"
    }
   ],
   "source": [
    "file.plot_drop_impulses(figsize = [4,6], save_figs = False, hold = False, legend = True,\n",
    "                        colors = [\"black\", \"blue\", \"green\", \"orange\", \"purple\", \"brown\"],\n",
    "                        units = {\"Time\":\"s\", \"accel\":\"g\", \"velocity\":\"m/s\", \"displacement\":\"cm\"},\n",
    "                        line_style = [\"solid\", \"dashed\"])"
   ]
  },
  {
   "cell_type": "code",
   "execution_count": null,
   "metadata": {},
   "outputs": [],
   "source": []
  }
 ],
 "metadata": {
  "kernelspec": {
   "display_name": "Python 3",
   "language": "python",
   "name": "python3"
  },
  "language_info": {
   "codemirror_mode": {
    "name": "ipython",
    "version": 3
   },
   "file_extension": ".py",
   "mimetype": "text/x-python",
   "name": "python",
   "nbconvert_exporter": "python",
   "pygments_lexer": "ipython3",
   "version": "3.12.5"
  }
 },
 "nbformat": 4,
 "nbformat_minor": 2
}
