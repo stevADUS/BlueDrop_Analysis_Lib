{
 "cells": [
  {
   "cell_type": "markdown",
   "metadata": {},
   "source": [
    "### Things that need to be done\n",
    " \n",
    "* Create the a test database that has:\n",
    "  * base_data\n",
    "  * accel_data\n",
    "  \n",
    "* Add on the following tables\n",
    "  * bearing_capacity\n",
    "  \n",
    "* Add on the followinig tables\n",
    "  * bluedrop config\n",
    "  * bluedrop calibration data\n",
    "\n",
    "* Trim the top of the bearing data plot (doesn't make a lot of sense but sure)\n",
    "* \n",
    "### Options for formattig data\n",
    "* Use a JSON for a quickoverview of the survey metadata\n",
    "* Use a csv format to store information about each of the drops"
   ]
  },
  {
   "cell_type": "code",
   "execution_count": null,
   "metadata": {},
   "outputs": [],
   "source": [
    "# Library installs\n",
    "import numpy as np \n",
    "import pandas as pd\n",
    "import matplotlib.pyplot as plt\n"
   ]
  },
  {
   "cell_type": "code",
   "execution_count": null,
   "metadata": {},
   "outputs": [],
   "source": [
    "# Local loads\n",
    "from lib.data_classes.pffpFolder import pffpDataFolder\n",
    "from lib.signal_processing.signal_function import moving_average, find_deriv_change, find_drops\n",
    "from lib.general_functions.global_constants import GRAVITY_CONST\n",
    "from lib.general_functions.helper_function import convert_time_units\n"
   ]
  },
  {
   "cell_type": "code",
   "execution_count": null,
   "metadata": {},
   "outputs": [],
   "source": [
    "# Data folder\n",
    "folder_dir = r\"C:\\Geotech_Research\\Field_Analysis\\BlueDrop_Analysis_Lib\\stark_drops\"\n",
    "\n",
    "# PFFP sensor data\n",
    "calibration_dir = r\"calibration_factors\\BlueDrop_Calibration_Factors.xlsx\"\n",
    "\n",
    "# PFFP tip information\n",
    "tip_dir = r\"C:\\Geotech_Research\\Field_Analysis\\BlueDrop_Analysis_Lib\\calibration_factors\\BluedDrop_Cone_Values.xlsx\"\n"
   ]
  },
  {
   "cell_type": "code",
   "execution_count": null,
   "metadata": {},
   "outputs": [],
   "source": [
    "# TODO: Combine the pffp_id and the read_calibration_excel_sheet just have the objet call inside\n",
    "name = \"foo\"\n",
    "id = 9\n",
    "test_folder = pffpDataFolder(folder_dir, pffp_id = id, calibration_factor_dir=calibration_dir, survey_name = name)\n",
    "\n",
    "# Read the calibration data\n",
    "test_folder.read_calibration_excel_sheet()\n",
    "test_folder.calibration_excel_sheet\n",
    "\n",
    "# Select the specific calibration params\n",
    "if id == 3:\n",
    "    test_folder.get_sensor_calibration_params(\"Sequim_2021\")\n",
    "elif id == 1:\n",
    "    test_folder.get_sensor_calibration_params(\"March_2023\")\n",
    "elif id ==9:\n",
    "    test_folder.get_sensor_calibration_params(\"October_2023\")\n",
    "else:\n",
    "    raise ValueError(\"not a valid pffp id\")"
   ]
  },
  {
   "cell_type": "code",
   "execution_count": null,
   "metadata": {},
   "outputs": [],
   "source": [
    "# Init a pffpFile instances for each binary file and store the results in the folder\n",
    "test_folder.store_pffp_files(recursive = False)\n",
    "\n",
    "print(test_folder) # Information about the folder"
   ]
  },
  {
   "cell_type": "code",
   "execution_count": null,
   "metadata": {},
   "outputs": [],
   "source": [
    "# Analyze the selected pffp files\n",
    "test_folder.analyze_all_files(store_df=True, use_pore_pressure=True, \n",
    "                              select_accel=[\"2g_accel\", \"50g_accel\", \"250g_accel\"],\n",
    "                              debug = False)\n",
    "print(test_folder)\n",
    "\n",
    "test_folder.process_drop_files()\n",
    "\n",
    "# Store the first drop file\n",
    "file = test_folder.pffp_drop_files[0]\n",
    "drop = file.drops[0]\n",
    "\n",
    "pffp_id = test_folder.pffp_id\n",
    "drop.get_pffp_tip_values(pffp_id=pffp_id, tip_type=\"cone\", date_string = \"April_2024\", file_dir = tip_dir)\n",
    "\n",
    "drop.water_drop = 1\n",
    "drop.convert_tip_vals()\n",
    "\n"
   ]
  },
  {
   "cell_type": "code",
   "execution_count": null,
   "metadata": {},
   "outputs": [],
   "source": [
    "accel = file.concat_accel\n",
    "time = file.df[\"Time\"] * 60\n",
    "pressure = file.df[\"pore_pressure\"]"
   ]
  },
  {
   "cell_type": "code",
   "execution_count": null,
   "metadata": {},
   "outputs": [],
   "source": [
    "drop.quick_view_impulse()"
   ]
  },
  {
   "cell_type": "code",
   "execution_count": null,
   "metadata": {},
   "outputs": [],
   "source": [
    "display(drop.bearing_dfs[\"mantle\"])"
   ]
  },
  {
   "cell_type": "code",
   "execution_count": null,
   "metadata": {},
   "outputs": [],
   "source": [
    "qsbc_vals = [0.2, 0.5, 0.9, 1.2, 1.5]\n",
    "\n",
    "for name in [\"mantle\", \"projected\"]:\n",
    "    drop.calc_drop_contact_area(area_type = name)\n",
    "    drop.calc_drop_dynamic_bearing(area_type = name)\n",
    "    for val in qsbc_vals:\n",
    "        drop.calc_drop_qs_bearing(k_factor = val, area_type = name)\n",
    "        drop.calc_drop_qs_bearing(k_factor = val, area_type = name)"
   ]
  },
  {
   "cell_type": "code",
   "execution_count": null,
   "metadata": {},
   "outputs": [],
   "source": [
    "drop.bearing_dfs[\"projected\"]"
   ]
  },
  {
   "cell_type": "code",
   "execution_count": null,
   "metadata": {},
   "outputs": [],
   "source": [
    "\n",
    "displacement = drop.impulse_df[\"displacement\"]\n",
    "df = drop.bearing_dfs[\"projected\"]\n",
    "\n",
    "end = -17\n",
    "for val in qsbc_vals:\n",
    "    column = \"qsbc_proj_{}\".format(val)\n",
    "    k_name=  \"k = {}\".format(val)\n",
    "    bearing = df[column][:end]\n",
    "    bearing = bearing/1e3\n",
    "    plt.plot(bearing, displacement[:end] * 100, label= k_name)\n",
    "\n",
    "plt.legend()\n",
    "plt.gca().invert_yaxis()\n",
    "plt.ylabel(\"Penetration Depth (cm)\")\n",
    "plt.xlabel(\"QSBC (kPa)\")\n",
    "plt.show()"
   ]
  },
  {
   "cell_type": "code",
   "execution_count": null,
   "metadata": {},
   "outputs": [],
   "source": [
    "# Make the drop id\n",
    "drop.make_drop_name()\n",
    "drop.get_drop_datetime(file)\n",
    "drop.get_peak_impulse_deceleration()\n",
    "\n",
    "print(drop.name)"
   ]
  },
  {
   "cell_type": "code",
   "execution_count": null,
   "metadata": {},
   "outputs": [],
   "source": [
    "import sqlite3"
   ]
  },
  {
   "cell_type": "code",
   "execution_count": null,
   "metadata": {},
   "outputs": [],
   "source": [
    "from BlueDrop_db_lib.dbClass import PFFPDatabase"
   ]
  },
  {
   "cell_type": "code",
   "execution_count": null,
   "metadata": {},
   "outputs": [],
   "source": [
    "# Input fake date information\n",
    "survey_year = \"24\"\n",
    "survey_month = \"01\"\n",
    "survey_start_day = \"01\"\n",
    "\n",
    "survey_name = test_folder.survey_name\n",
    "survey_id = \"{}_YR{}{}{}\".format(survey_name, survey_year, survey_month, survey_start_day)\n",
    "\n",
    "bluedrop_id = test_folder.pffp_id\n",
    "pffp_calibration_df = test_folder.calibration_params\n",
    "pffp_calibration_dict = {\"pffp_id\":bluedrop_id, \"pffp_calibration_df\":pffp_calibration_df}\n",
    "\n",
    "location = \"foo_location\"\n",
    "transect = \"foo_transect\"\n",
    "latitude = 1.0\n",
    "longitude = 2.0\n"
   ]
  },
  {
   "cell_type": "code",
   "execution_count": null,
   "metadata": {},
   "outputs": [],
   "source": [
    "location_dict = {\"survey_id\":survey_id, \"survey_name\":survey_name, \"location_name\":location, \"transect\":transect, \"latitude\":latitude, \"longitude\":longitude}"
   ]
  },
  {
   "cell_type": "code",
   "execution_count": null,
   "metadata": {},
   "outputs": [],
   "source": [
    "database = PFFPDatabase(\"foo3\")\n",
    "database.create_database()\n",
    "\n",
    "df = drop.pffp_config[\"tip_props\"]"
   ]
  },
  {
   "cell_type": "code",
   "execution_count": null,
   "metadata": {},
   "outputs": [],
   "source": [
    "sub_df =list( df[df['Properties'] != 'radius_coeff'][\"units\"])\n",
    "display(sub_df)"
   ]
  },
  {
   "cell_type": "code",
   "execution_count": null,
   "metadata": {},
   "outputs": [],
   "source": [
    "database.add_drop_data(drop, pffp_calibration_dict=pffp_calibration_dict, location_dict=location_dict, pffp_config_dict=drop.pffp_config)"
   ]
  },
  {
   "cell_type": "code",
   "execution_count": null,
   "metadata": {},
   "outputs": [],
   "source": [
    "test_folder.calibration_params"
   ]
  },
  {
   "cell_type": "code",
   "execution_count": null,
   "metadata": {},
   "outputs": [],
   "source": [
    "drop.pffp_config"
   ]
  },
  {
   "cell_type": "code",
   "execution_count": null,
   "metadata": {},
   "outputs": [],
   "source": [
    "display(database.get_table_as_df(name = \"drops\"))"
   ]
  },
  {
   "cell_type": "code",
   "execution_count": null,
   "metadata": {},
   "outputs": [],
   "source": [
    "\n",
    "display(database.get_table_as_df(name = \"accel\"))"
   ]
  },
  {
   "cell_type": "code",
   "execution_count": null,
   "metadata": {},
   "outputs": [],
   "source": [
    "display(database.get_table_as_df(name = \"bearing\"))"
   ]
  },
  {
   "cell_type": "code",
   "execution_count": null,
   "metadata": {},
   "outputs": [],
   "source": [
    "df=  database.get_table_as_df(name = \"pffp_calib\")\n",
    "display(df)"
   ]
  },
  {
   "cell_type": "code",
   "execution_count": null,
   "metadata": {},
   "outputs": [],
   "source": [
    "df=  database.get_table_as_df(name = \"survey\")\n",
    "display(df)"
   ]
  },
  {
   "cell_type": "code",
   "execution_count": null,
   "metadata": {},
   "outputs": [],
   "source": [
    "display(database.get_table_as_df(name = \"pffp_config\"))"
   ]
  },
  {
   "cell_type": "code",
   "execution_count": null,
   "metadata": {},
   "outputs": [],
   "source": [
    "database.close_database()"
   ]
  },
  {
   "cell_type": "code",
   "execution_count": null,
   "metadata": {},
   "outputs": [],
   "source": []
  }
 ],
 "metadata": {
  "kernelspec": {
   "display_name": "PFFP_FieldWork",
   "language": "python",
   "name": "python3"
  },
  "language_info": {
   "codemirror_mode": {
    "name": "ipython",
    "version": 3
   },
   "file_extension": ".py",
   "mimetype": "text/x-python",
   "name": "python",
   "nbconvert_exporter": "python",
   "pygments_lexer": "ipython3",
   "version": "3.11.5"
  }
 },
 "nbformat": 4,
 "nbformat_minor": 2
}
