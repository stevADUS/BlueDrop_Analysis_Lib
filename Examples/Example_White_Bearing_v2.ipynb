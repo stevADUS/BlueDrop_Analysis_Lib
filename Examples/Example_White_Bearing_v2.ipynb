{
 "cells": [
  {
   "cell_type": "markdown",
   "metadata": {},
   "source": [
    "### Things that need to be done\n",
    "\n",
    "* Trim the top of the bearing data plot (doesn't make a lot of sense but sure)\n",
    "* \n",
    "### Options for formattig data\n",
    "* Use a JSON for a quickoverview of the survey metadata\n",
    "* Use a csv format to store information about each of the drops"
   ]
  },
  {
   "cell_type": "code",
   "execution_count": null,
   "metadata": {},
   "outputs": [],
   "source": [
    "# Library installs\n",
    "import numpy as np \n",
    "import pandas as pd\n",
    "import matplotlib.pyplot as plt\n",
    "from scipy.optimize import fsolve\n",
    "DEBUG = False"
   ]
  },
  {
   "cell_type": "code",
   "execution_count": null,
   "metadata": {},
   "outputs": [],
   "source": [
    "# Local loads\n",
    "from lib.data_classes.pffpFolder import pffpDataFolder\n",
    "from lib.mechanics_functions.relative_density_funcs import calc_Jamiolkowski_relative_density, calc_Albatal_rel_density\n",
    "from lib.mechanics_functions.general_geotech_funcs import ( calc_cambridge_mean_eff_stress, calc_consolidation_coeff, calc_mohr_coulomb_su, \n",
    "                                                            calc_dimensionless_velocity, calc_white_failure_mean_eff_stress\n",
    "                                                          )\n",
    "from lib.mechanics_functions.white_bearing_capacity import ( calc_qNet_dyn_at_vel, calc_qNet_undrained, calc_white_qNet_dyn, find_qNet_dry,\n",
    "                                                             find_qNet_dry_2\n",
    ")\n",
    "\n"
   ]
  },
  {
   "cell_type": "markdown",
   "metadata": {},
   "source": [
    "### Calculating the White et al. (2018) values"
   ]
  },
  {
   "cell_type": "code",
   "execution_count": null,
   "metadata": {},
   "outputs": [],
   "source": [
    "depth = 2\n",
    "\n",
    "# generate some dimensionless velocities\n",
    "dimensionless_vel = np.linspace(0.01, 100, 10000)\n",
    "\n",
    "# Generate some drained tip resistances\n",
    "qNet_ds = np.linspace(1400, 10000, 10)\n",
    "\n",
    "# Calc the relative density\n",
    "rel_density = calc_Jamiolkowski_relative_density(qNet_ds, depth)\n",
    "print(rel_density)\n",
    "\n",
    "# Calc the failure mean eff stress\n",
    "p_f = calc_white_failure_mean_eff_stress(rel_density)\n",
    "\n",
    "# Calc Su\n",
    "su = calc_mohr_coulomb_su(p_f)\n",
    "\n",
    "# Calc the qNet_undrained\n",
    "qNet_ud = calc_qNet_undrained(su)\n",
    "\n",
    "for qNet_ud, qNet_d in zip(qNet_ud, qNet_ds):\n",
    "\n",
    "    qNet_dyn = calc_white_qNet_dyn(qNet_ud, qNet_d, dimensionless_vel)\n",
    "    plt.loglog(dimensionless_vel, qNet_dyn)\n",
    "\n",
    "# Format the plot\n",
    "plt.xlabel(\"Dimensionless penetration velocity, $V = vD/c_{h}$\")\n",
    "plt.ylabel(\"Tip resistance $q_{net}$ (kPa)\")\n",
    "plt.title(\"Figure 3 of White et al. (2018)\")\n",
    "plt.show()"
   ]
  },
  {
   "cell_type": "markdown",
   "metadata": {},
   "source": [
    "#### Stuff that can be calculated from White et al. Correlations\n",
    "\n",
    "* qCPT = qCPT(relative density, k0, coeff_consolidation)\n",
    "* coeff_consolidation = coeff_consolidation(relative_density)"
   ]
  },
  {
   "cell_type": "markdown",
   "metadata": {},
   "source": [
    "#### Process for using the white et al. (2018)\n",
    "\n",
    "1) Use Ali's or Duncan's correlation for relative density\n",
    "2) Use the relative density to calc the \"backbone curve\" \n",
    "3) Use the value of the qNet_dyn (Use the force balance for this) to get the strength at the CPT speed. Do this for each depth in the penetration"
   ]
  },
  {
   "cell_type": "markdown",
   "metadata": {},
   "source": [
    "### Testing the functions that calculate the net bearing capacity from White et al. (2018)"
   ]
  },
  {
   "cell_type": "code",
   "execution_count": null,
   "metadata": {},
   "outputs": [],
   "source": [
    "# generate some dimensionless velocities\n",
    "dimensionless_vel = np.linspace(0.01, 100, 10000)\n",
    "\n",
    "# Select a dry strength\n",
    "qNet_d = 1000\n",
    "\n",
    "# Calc the relative density\n",
    "rel_density = calc_Jamiolkowski_relative_density(qNet_d, depth)\n",
    "\n",
    "# Calc the failure mean eff stress\n",
    "p_f = calc_white_failure_mean_eff_stress(rel_density)\n",
    "\n",
    "# Calc Su\n",
    "su = calc_mohr_coulomb_su(p_f)\n",
    "\n",
    "# Calc the qNet_undrained\n",
    "qNet_ud = calc_qNet_undrained(su)\n",
    "\n",
    "qNet_dyn = calc_white_qNet_dyn(qNet_ud, qNet_d, dimensionless_vel)\n",
    "\n",
    "print(\"Selected dry bearing resistance: \", qNet_d)\n",
    "print(\"Undrained bearing resitance: \",qNet_ud)\n",
    "print(\"First 10 Dynamic bearin resitances: \", qNet_dyn[:10])"
   ]
  },
  {
   "cell_type": "code",
   "execution_count": null,
   "metadata": {},
   "outputs": [],
   "source": [
    "# Select the data index\n",
    "index = 0\n",
    "\n",
    "# Use the values from the previous cell as test data\n",
    "qNet_dyn_check = qNet_dyn[index]\n",
    "dimensionless_vel_check = dimensionless_vel[index]\n",
    "\n",
    "print(qNet_dyn_check)\n",
    "qNet_d_guess = qNet_dyn_check\n",
    "\n",
    "relative_density = rel_density\n",
    "V_50 =1.0\n",
    "Q = 10\n",
    "\n",
    "# qNet_dry = fsolve(find_qNet_dry, qNet_d_guess, args = (qNet_dyn_check, relative_density, dimensionless_vel_2, V_50, Q))\n",
    "qNet_dry_check = fsolve(find_qNet_dry_2, qNet_d_guess, \n",
    "                      args = (qNet_dyn_check, depth, dimensionless_vel_check, V_50, Q))\n",
    "# print(qNet_dry)\n",
    "print(qNet_dry_check)\n",
    "print(\"Difference between the inverse solve and the actual value: {:.2f}\".format(qNet_dry_check[0]-qNet_d))"
   ]
  },
  {
   "cell_type": "markdown",
   "metadata": {},
   "source": [
    "I tried to include the relative density inside of the iterations so that you would only need to have the consolidation coefficient but there are two many solutions when a reasonable value for the consolidation coefficient is used."
   ]
  },
  {
   "cell_type": "code",
   "execution_count": null,
   "metadata": {},
   "outputs": [],
   "source": [
    "# Select the data index\n",
    "index = 950\n",
    "\n",
    "# Use the values from the previous cell as test data\n",
    "qNet_dyn_check = qNet_dyn[index]\n",
    "dimensionless_vel_check = dimensionless_vel[index]\n",
    "\n",
    "# 1000 seems to be a stable guess for the range of values that I tested. If the iteration of the fsolve isn't stable \n",
    "# then the function can converge to a wacky number \n",
    "qNet_d_guess = 1000\n",
    "\n",
    "# Use the diameter and consolidation coefficient from White et al. (2018)\n",
    "diameter = 0.1\n",
    "coeff_consolidation = 1e6/ (365 * 24 * 3600) \n",
    "\n",
    "# Back calc the velocity that goes with the selected dimensionless V value\n",
    "measured_velocity = dimensionless_vel_check * coeff_consolidation/diameter\n",
    "\n",
    "# Select the CPT velocity (Could be other velocity but CPT is the most common)\n",
    "wanted_velocity = 0.02\n",
    "\n",
    "# Get the qNet_dyn at the wanted velocity\n",
    "wanted_qNet_dyn = calc_qNet_dyn_at_vel(qNet_d_guess, qNet_dyn_check, depth, rel_density, measured_velocity, coeff_consolidation, \n",
    "                                       wanted_velocity=wanted_velocity, probe_diameter=diameter, calc_relative_density=True)\n",
    "\n",
    "# Calc this for later check\n",
    "wanted_V = calc_dimensionless_velocity(wanted_velocity, diameter, coeff_consolidation)\n",
    "\n",
    "# Plot the last calculated backbone curve\n",
    "plt.loglog(dimensionless_vel, qNet_dyn, label = \"Backbone curve\")\n",
    "\n",
    "# PLot the wanted values, there intersection should be on the backbone curve\n",
    "plt.axhline(y = wanted_qNet_dyn, color = \"green\", linestyle = \"dashed\", label = \"wanted qNet_dyn\")\n",
    "plt.axvline(x = wanted_V, color = \"red\", linestyle= \"dashed\", label = \"wanted dimensionless V\")\n",
    "plt.legend()\n",
    "plt.show()"
   ]
  },
  {
   "cell_type": "markdown",
   "metadata": {},
   "source": []
  }
 ],
 "metadata": {
  "kernelspec": {
   "display_name": "PFFP_FieldWork",
   "language": "python",
   "name": "python3"
  },
  "language_info": {
   "codemirror_mode": {
    "name": "ipython",
    "version": 3
   },
   "file_extension": ".py",
   "mimetype": "text/x-python",
   "name": "python",
   "nbconvert_exporter": "python",
   "pygments_lexer": "ipython3",
   "version": "3.11.5"
  }
 },
 "nbformat": 4,
 "nbformat_minor": 2
}
